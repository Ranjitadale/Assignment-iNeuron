{
 "cells": [
  {
   "cell_type": "raw",
   "id": "832483a6",
   "metadata": {},
   "source": [
    "Que1. Values: 'hello', -87.8, 6\n",
    "   Expression : - , / , +"
   ]
  },
  {
   "cell_type": "raw",
   "id": "3305e733",
   "metadata": {},
   "source": [
    "Que2. String : String is a single value. It may be float,integer,\n",
    "     ex. '23', 12.6 , 'Krish'.\n",
    "     Variable : A value is store by particular object is variable. It may float ,integer,\n",
    "     ex. a = 23\n",
    "         Krish=12.6\n",
    "         b='World'"
   ]
  },
  {
   "cell_type": "markdown",
   "id": "a2792de0",
   "metadata": {},
   "source": [
    "Que.3"
   ]
  },
  {
   "cell_type": "code",
   "execution_count": null,
   "id": "3f94a34f",
   "metadata": {},
   "outputs": [],
   "source": [
    "Types of data:\n",
    "    A) Numerical data: There are three types of numerical data: Interger ,float and complex\n",
    "            Integer: It store integer value that can be positive or negative and do not contain any decimal point.\n",
    "                ex. 2,45,87\n",
    "            Float : A real number that store the decimal values.It consist of integer and fraction parts.\n",
    "                ex. 41.67 , 0.15 , 2.03\n",
    "            Complex: A combination of real and imaginary part.\n",
    "                ex. 5+6j\n",
    "    B) Sequence : There are three types : List,tuple,set\n",
    "            List: A collection of different data. The items are enclosed by square bracket[].\n",
    "                ex. Lst=[25,\"Ronny\",45.27,True]\n",
    "            Tuple: A collection of different data but items are enclosed by parenthese().We can not modify the size and value of items.\n",
    "                ex. T=(\"Hello\",25,13.56)\n",
    "            Set: A collection of unordered data.The items are enclosed by curly bracket{}.It may return the changed sequance of items.\n",
    "    C) Mapping : \n",
    "            Dictionary: An un-ordered set of key value pair of items. Each key store a specific value(item). The items are enclosed by {}.\n"
   ]
  },
  {
   "cell_type": "markdown",
   "id": "88f84e14",
   "metadata": {},
   "source": [
    "Que.4"
   ]
  },
  {
   "cell_type": "code",
   "execution_count": null,
   "id": "7779bbef",
   "metadata": {},
   "outputs": [],
   "source": [
    "An expression is combination of values,operators,variables and functions. Therefore, The expression made a final result.\n",
    "The all expression made new value. "
   ]
  },
  {
   "cell_type": "markdown",
   "id": "76156478",
   "metadata": {},
   "source": [
    "Que.5"
   ]
  },
  {
   "cell_type": "code",
   "execution_count": null,
   "id": "d8e2914f",
   "metadata": {},
   "outputs": [],
   "source": [
    "Expression: An combination of values,operators,variables and functions is called as expression. Expression need to be evaluated.\n",
    "    If we want to print expression,it returns the final result.\n",
    "    ex. 2+2 , 1+True,\n",
    "Statement: A programming instruction that does something i.e. some action takes place.\n",
    "    Ex. print(\"Hello\")"
   ]
  },
  {
   "cell_type": "markdown",
   "id": "e73a9b7c",
   "metadata": {},
   "source": [
    "Que6."
   ]
  },
  {
   "cell_type": "code",
   "execution_count": 1,
   "id": "f2a39597",
   "metadata": {},
   "outputs": [],
   "source": [
    "bacon=22"
   ]
  },
  {
   "cell_type": "code",
   "execution_count": 2,
   "id": "1a19e19b",
   "metadata": {},
   "outputs": [
    {
     "data": {
      "text/plain": [
       "23"
      ]
     },
     "execution_count": 2,
     "metadata": {},
     "output_type": "execute_result"
    }
   ],
   "source": [
    "bacon+1"
   ]
  },
  {
   "cell_type": "code",
   "execution_count": 3,
   "id": "47762e84",
   "metadata": {},
   "outputs": [
    {
     "data": {
      "text/plain": [
       "22"
      ]
     },
     "execution_count": 3,
     "metadata": {},
     "output_type": "execute_result"
    }
   ],
   "source": [
    "bacon"
   ]
  },
  {
   "cell_type": "raw",
   "id": "ad432458",
   "metadata": {},
   "source": [
    "Hence, bacon contain 22."
   ]
  },
  {
   "cell_type": "markdown",
   "id": "e8477075",
   "metadata": {},
   "source": [
    "Que7"
   ]
  },
  {
   "cell_type": "raw",
   "id": "cb0bcc7b",
   "metadata": {},
   "source": [
    "'spam'+'spamspam': Output = 'spamspamspam'"
   ]
  },
  {
   "cell_type": "raw",
   "id": "b2dee873",
   "metadata": {},
   "source": [
    "'spam'*3 : Output : 'spamspamspam'"
   ]
  },
  {
   "cell_type": "markdown",
   "id": "6cfb2594",
   "metadata": {},
   "source": [
    "Que8"
   ]
  },
  {
   "cell_type": "code",
   "execution_count": 7,
   "id": "a62e395a",
   "metadata": {},
   "outputs": [],
   "source": [
    "eggs is alphabet which can be use as variable, but 100 is number which can not use as variable name. \n",
    "Also math operator can not use as variable name.\n",
    "Variable name must start with _ or A-Z or a-z."
   ]
  },
  {
   "cell_type": "markdown",
   "id": "977a7d9c",
   "metadata": {},
   "source": [
    "Que9"
   ]
  },
  {
   "cell_type": "code",
   "execution_count": null,
   "id": "08a9826a",
   "metadata": {},
   "outputs": [],
   "source": [
    "Let 'a ' is particular value or number.\n",
    "To get integer use:\n",
    "     int(a) or int(25.17)\n",
    "To get float use:\n",
    "    float(a) or float(12)\n",
    "To get string use:\n",
    "    str(a)"
   ]
  },
  {
   "cell_type": "markdown",
   "id": "15d606c2",
   "metadata": {},
   "source": [
    "Que10"
   ]
  },
  {
   "cell_type": "raw",
   "id": "bc9647b4",
   "metadata": {},
   "source": [
    "'I have eaten ' +99+ ' burritos.'\n",
    "Here we can not use math operator or numuric value in string. If we want use numerical value,then use \"\".\n",
    "Ex: 'I have eaten \" + 99 +\" burritos.'"
   ]
  },
  {
   "cell_type": "code",
   "execution_count": null,
   "id": "f3209722",
   "metadata": {},
   "outputs": [],
   "source": []
  }
 ],
 "metadata": {
  "kernelspec": {
   "display_name": "Python 3 (ipykernel)",
   "language": "python",
   "name": "python3"
  },
  "language_info": {
   "codemirror_mode": {
    "name": "ipython",
    "version": 3
   },
   "file_extension": ".py",
   "mimetype": "text/x-python",
   "name": "python",
   "nbconvert_exporter": "python",
   "pygments_lexer": "ipython3",
   "version": "3.9.7"
  }
 },
 "nbformat": 4,
 "nbformat_minor": 5
}
